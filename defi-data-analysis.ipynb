{
 "cells": [
  {
   "cell_type": "code",
   "execution_count": 1,
   "id": "d2272ca0",
   "metadata": {},
   "outputs": [
    {
     "data": {
      "text/plain": [
       "<BarContainer object of 3 artists>"
      ]
     },
     "execution_count": 1,
     "metadata": {},
     "output_type": "execute_result"
    },
    {
     "data": {
      "image/png": "[encoded data removed]",
      "text/plain": [
       "<Figure size 432x288 with 1 Axes>"
      ]
     },
     "metadata": {
      "needs_background": "light"
     },
     "output_type": "display_data"
    }
   ],
   "source": [
    "import pandas as pd\n",
    "import matplotlib.pyplot as plt\n",
    "import requests\n",
    "from bs4 import BeautifulSoup\n",
    "\n",
    "## Plot the number of holders for each token\n",
    "\n",
    "# Blockhain explorer URLs\n",
    "aave_token_url = 'https://etherscan.io/token/0x7fc66500c84a76ad7e9c93437bfc5ac33e2ddae9#balances'\n",
    "geist_token_url = 'https://ftmscan.com/token/0xd8321aa83fb0a4ecd6348d4577431310a6e0814d#balances'\n",
    "radiant_token_url = 'https://arbiscan.io/token/0x0c4681e6c0235179ec3d4f4fc4df3d14fdd96017#balances'\n",
    "\n",
    "# Get the HTML for each token\n",
    "# Note: Requests to Etherscan will fail if the User-Agent header is missing\n",
    "aave_token_html = BeautifulSoup(requests.get(aave_token_url, headers={'User-Agent': 'Mozilla/5.0 (Macintosh; Intel Mac OS X 10_11_5) AppleWebKit/537.36 (KHTML, '\n",
    "                               'like Gecko) Chrome/50.0.2661.102 Safari/537.36'}).text, 'html.parser')\n",
    "geist_token_html = BeautifulSoup(requests.get(geist_token_url).text, 'html.parser')\n",
    "radiant_token_html = BeautifulSoup(requests.get(radiant_token_url).text, 'html.parser')\n",
    "\n",
    "# Scrape the number of holders from the html\n",
    "aave_number_of_holders = int(aave_token_html.find(id=\"ContentPlaceHolder1_tr_tokenHolders\").find('div', {'class': 'mr-3'}).text.split(' ')[0].split('\\n')[1].replace(',',''))\n",
    "geist_number_of_holders = int(geist_token_html.find(id=\"ContentPlaceHolder1_tr_tokenHolders\").find('div', {'class': 'col-md-8'}).text.split(' ')[0].split('\\n')[1].replace(',',''))\n",
    "radiant_number_of_holders = int(radiant_token_html.find(id=\"ContentPlaceHolder1_tr_tokenHolders\").find('div', {'class': 'mr-3'}).text.split(' ')[36])\n",
    "    \n",
    "# Use matplotlib to display the data\n",
    "number_of_holders = {'Aave': aave_number_of_holders, 'Geist': geist_number_of_holders, 'Radiant': radiant_number_of_holders}\n",
    "plt.bar(list(number_of_holders.keys()), list(number_of_holders.values()))"
   ]
  },
  {
   "cell_type": "code",
   "execution_count": 2,
   "id": "8c7f5f3a",
   "metadata": {},
   "outputs": [],
   "source": [
    "aave_holders_raw = pd.read_csv('aave-token-holders.csv')\n",
    "geist_holders_raw = pd.read_csv('geist-token-holders.csv')\n",
    "radiant_holders_raw = pd.read_csv('radiant-token-holders.csv')\n",
    "\n",
    "# Clean Data (Part I)\n",
    "# Remove rows with the zero address\n",
    "aave_holders_first_clean = aave_holders_raw[aave_holders_raw['HolderAddress'] != '0x0000000000000000000000000000000000000000']\n",
    "geist_holders_first_clean = geist_holders_raw[geist_holders_raw['HolderAddress'] != '0x0000000000000000000000000000000000000000']\n",
    "radiant_holders_first_clean = radiant_holders_raw[radiant_holders_raw['HolderAddress'] != '0x0000000000000000000000000000000000000000']\n",
    "\n",
    "# Clean Data (Part II)\n",
    "# Remove rows with zero balance\n",
    "aave_holders = aave_holders_first_clean[aave_holders_first_clean['Balance'] != 0]\n",
    "geist_holders = geist_holders_first_clean[geist_holders_first_clean['Balance'] != 0]\n",
    "radiant_holders = radiant_holders_first_clean[radiant_holders_first_clean['Balance'] != 0]"
   ]
  },
  {
   "cell_type": "code",
   "execution_count": null,
   "id": "b5c9fa63",
   "metadata": {},
   "outputs": [],
   "source": []
  },
  {
   "cell_type": "code",
   "execution_count": null,
   "id": "f7b2fd9e",
   "metadata": {},
   "outputs": [],
   "source": []
  }
 ],
 "metadata": {
  "kernelspec": {
   "display_name": "Python 3 (ipykernel)",
   "language": "python",
   "name": "python3"
  },
  "language_info": {
   "codemirror_mode": {
    "name": "ipython",
    "version": 3
   },
   "file_extension": ".py",
   "mimetype": "text/x-python",
   "name": "python",
   "nbconvert_exporter": "python",
   "pygments_lexer": "ipython3",
   "version": "3.8.9"
  }
 },
 "nbformat": 4,
 "nbformat_minor": 5
}
