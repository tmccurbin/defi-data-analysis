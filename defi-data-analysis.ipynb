{
 "cells": [
  {
   "cell_type": "code",
   "execution_count": 26,
   "id": "aaf46907",
   "metadata": {},
   "outputs": [],
   "source": [
    "import pandas as pd\n",
    "\n",
    "aave_holders_raw = pd.read_csv('aave-token-holders.csv')\n",
    "geist_holders_raw = pd.read_csv('geist-token-holders.csv')\n",
    "radiant_holders_raw = pd.read_csv('radiant-token-holders.csv')\n",
    "\n",
    "# Remove rows with the zero address\n",
    "aave_holders_first_clean = aave_holders_raw[aave_holders_raw['HolderAddress'] != '0x0000000000000000000000000000000000000000']\n",
    "geist_holders_first_clean = geist_holders_raw[geist_holders_raw['HolderAddress'] != '0x0000000000000000000000000000000000000000']\n",
    "radiant_holders_first_clean = radiant_holders_raw[radiant_holders_raw['HolderAddress'] != '0x0000000000000000000000000000000000000000']\n",
    "\n",
    "# Remove rows with zero balance\n",
    "aave_holders_second_clean = aave_holders_first_clean[aave_holders_first_clean['Balance'] != 0]\n",
    "geist_holders_second_clean = geist_holders_first_clean[geist_holders_first_clean['Balance'] != 0]\n",
    "radiant_holders_second_clean = radiant_holders_first_clean[radiant_holders_first_clean['Balance'] != 0]\n",
    "\n"
   ]
  },
  {
   "cell_type": "code",
   "execution_count": null,
   "id": "5048c32e",
   "metadata": {},
   "outputs": [],
   "source": []
  }
 ],
 "metadata": {
  "kernelspec": {
   "display_name": "Python 3 (ipykernel)",
   "language": "python",
   "name": "python3"
  },
  "language_info": {
   "codemirror_mode": {
    "name": "ipython",
    "version": 3
   },
   "file_extension": ".py",
   "mimetype": "text/x-python",
   "name": "python",
   "nbconvert_exporter": "python",
   "pygments_lexer": "ipython3",
   "version": "3.8.9"
  }
 },
 "nbformat": 4,
 "nbformat_minor": 5
}
